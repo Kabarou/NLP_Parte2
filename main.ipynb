{
 "cells": [
  {
   "cell_type": "markdown",
   "id": "5e8b4d21",
   "metadata": {},
   "source": [
    "# Ejercicio 2"
   ]
  },
  {
   "cell_type": "code",
   "execution_count": null,
   "id": "b5332a6c",
   "metadata": {},
   "outputs": [
    {
     "data": {
      "text/plain": [
       "4"
      ]
     },
     "execution_count": 1,
     "metadata": {},
     "output_type": "execute_result"
    }
   ],
   "source": [
    "# Para ejercicio 2:\n",
    "# Agarrar el archivo txt \"Mecanica_del_juego.txt\" separar cada determinada cantidad de caracteres. Ej: 200. Y en base a eso\n",
    "# ir vectorizando"
   ]
  },
  {
   "cell_type": "code",
   "execution_count": null,
   "id": "56d96622",
   "metadata": {},
   "outputs": [
    {
     "name": "stderr",
     "output_type": "stream",
     "text": [
      "d:\\Documentos del Administrador\\Desktop\\Facultad\\Cuartas Materias\\NLP\\TP 1 Parte 2\\NLP_Parte2\\entorno_nlp_2\\Lib\\site-packages\\tqdm\\auto.py:21: TqdmWarning: IProgress not found. Please update jupyter and ipywidgets. See https://ipywidgets.readthedocs.io/en/stable/user_install.html\n",
      "  from .autonotebook import tqdm as notebook_tqdm\n"
     ]
    }
   ],
   "source": [
    "from chonkie import SemanticChunker\n",
    "\n",
    "# Inicializar el chunker con parámetros ajustados\n",
    "chunker = SemanticChunker(\n",
    "    embedding_model=\"minishlab/potion-base-8M\",  # Modelo de embeddings por defecto\n",
    "    mode=\"window\",                              # Modo de comparación en ventana\n",
    "    threshold=0.3,                              # Umbral de similitud para agrupar oraciones\n",
    "    chunk_size=50,                              # Tamaño máximo del fragmento en tokens\n",
    "    similarity_window=2,                        # Comparar con 2 oraciones anteriores\n",
    "    min_sentences=1,                            # Mínimo de oraciones por fragmento\n",
    "    min_characters_per_sentence=12,             # Mínimo de caracteres por oración\n",
    "    min_chunk_size=2,                           # Mínimo de tokens por fragmento\n",
    "    delim=['.', '!', '?', '\\n'],                # Delimitadores para dividir oraciones\n",
    "    return_type=\"chunks\"                        # Retornar objetos de tipo chunk\n",
    ")\n",
    "\n",
    "# Cargar el archivo de texto\n",
    "with open(\"Mecanica_del_juego.txt\", \"r\", encoding=\"utf-8\") as file:\n",
    "    texto = file.read()\n",
    "\n",
    "# Fragmentar el texto en trozos de 200 caracteres\n",
    "chunks = chunker.chunk(texto)\n",
    "\n",
    "# Mostrar los fragmentos generados\n",
    "for i, chunk in enumerate(chunks):\n",
    "    print(f\"Fragmento {i + 1}:\")\n",
    "    print(f\"Texto: {chunk.text}\")\n",
    "    print(f\"Cantidad de tokens: {chunk.token_count}\")\n",
    "    print(f\"Índices: {chunk.start_index} - {chunk.end_index}\")\n",
    "    print(\"---\")\n"
   ]
  },
  {
   "cell_type": "code",
   "execution_count": 7,
   "id": "cd69ee93",
   "metadata": {},
   "outputs": [
    {
     "ename": "NameError",
     "evalue": "name 'chunks' is not defined",
     "output_type": "error",
     "traceback": [
      "\u001b[31m---------------------------------------------------------------------------\u001b[39m",
      "\u001b[31mNameError\u001b[39m                                 Traceback (most recent call last)",
      "\u001b[36mCell\u001b[39m\u001b[36m \u001b[39m\u001b[32mIn[7]\u001b[39m\u001b[32m, line 7\u001b[39m\n\u001b[32m      4\u001b[39m modelo = SentenceTransformer(\u001b[33m'\u001b[39m\u001b[33mminishlab/potion-base-8M\u001b[39m\u001b[33m'\u001b[39m)\n\u001b[32m      6\u001b[39m \u001b[38;5;66;03m# Vectorizar cada fragmento\u001b[39;00m\n\u001b[32m----> \u001b[39m\u001b[32m7\u001b[39m vectores = [modelo.encode(chunk.text) \u001b[38;5;28;01mfor\u001b[39;00m chunk \u001b[38;5;129;01min\u001b[39;00m \u001b[43mchunks\u001b[49m]\n\u001b[32m      9\u001b[39m \u001b[38;5;66;03m# Mostrar los vectores (solo mostramos los primeros 5 por ejemplo)\u001b[39;00m\n\u001b[32m     10\u001b[39m \u001b[38;5;28;01mfor\u001b[39;00m i, vector \u001b[38;5;129;01min\u001b[39;00m \u001b[38;5;28menumerate\u001b[39m(vectores[:\u001b[32m5\u001b[39m]):\n",
      "\u001b[31mNameError\u001b[39m: name 'chunks' is not defined"
     ]
    }
   ],
   "source": [
    "from sentence_transformers import SentenceTransformer\n",
    "\n",
    "# Cargar el modelo de embeddings\n",
    "modelo = SentenceTransformer('minishlab/potion-base-8M')\n",
    "\n",
    "# Vectorizar cada fragmento\n",
    "vectores = [modelo.encode(chunk.text) for chunk in chunks]\n",
    "\n",
    "# Mostrar los vectores (solo mostramos los primeros 5 por ejemplo)\n",
    "for i, vector in enumerate(vectores[:5]):\n",
    "    print(f\"Vector del fragmento {i + 1}: {vector[:10]}...\")  # Mostramos los primeros 10 valores del vector\n"
   ]
  },
  {
   "cell_type": "code",
   "execution_count": null,
   "id": "7acb3311",
   "metadata": {},
   "outputs": [],
   "source": [
    "from sklearn.metrics.pairwise import cosine_similarity\n",
    "from scipy.spatial.distance import euclidean, cityblock\n",
    "\n",
    "def calcular_similitudes(vectores, query_vector):\n",
    "    similitudes_coseno = cosine_similarity(vectores, [query_vector])\n",
    "    similitudes_euclidiana = [euclidean(v, query_vector) for v in vectores]\n",
    "    similitudes_manhattan = [cityblock(v, query_vector) for v in vectores]\n",
    "    \n",
    "    return similitudes_coseno.flatten(), similitudes_euclidiana, similitudes_manhattan\n"
   ]
  },
  {
   "cell_type": "code",
   "execution_count": null,
   "id": "c9bb59d2",
   "metadata": {},
   "outputs": [],
   "source": [
    "# Frase de búsqueda que deseas comparar con los fragmentos\n",
    "query = \"explorador de naturaleza\"\n",
    "\n",
    "# Vectorizar la frase de búsqueda\n",
    "query_vector = modelo.encode(query)\n",
    "\n",
    "# Calcular las similitudes\n",
    "similitudes_coseno, similitudes_euclidiana, similitudes_manhattan = calcular_similitudes(vectores, query_vector)\n",
    "\n",
    "# Mostrar los resultados\n",
    "for i, (cos, euclid, manhattan) in enumerate(zip(similitudes_coseno, similitudes_euclidiana, similitudes_manhattan)):\n",
    "    print(f\"Fragmento {i + 1}:\")\n",
    "    print(f\"Similitud Coseno: {cos}\")\n",
    "    print(f\"Distancia Euclidiana: {euclid}\")\n",
    "    print(f\"Distancia Manhattan: {manhattan}\")\n",
    "    print(\"---\")\n"
   ]
  },
  {
   "cell_type": "code",
   "execution_count": null,
   "id": "83584057",
   "metadata": {},
   "outputs": [],
   "source": [
    "# Dudas: \n",
    "# Las justificaciones que deben estar en el informe, a que se refieren? es decir, que hay que justificar? \n",
    "# Debo cargar todo el repositorio o solo los archivos que voy a usar?"
   ]
  }
 ],
 "metadata": {
  "kernelspec": {
   "display_name": "entorno_nlp_2",
   "language": "python",
   "name": "python3"
  },
  "language_info": {
   "codemirror_mode": {
    "name": "ipython",
    "version": 3
   },
   "file_extension": ".py",
   "mimetype": "text/x-python",
   "name": "python",
   "nbconvert_exporter": "python",
   "pygments_lexer": "ipython3",
   "version": "3.13.0"
  }
 },
 "nbformat": 4,
 "nbformat_minor": 5
}
